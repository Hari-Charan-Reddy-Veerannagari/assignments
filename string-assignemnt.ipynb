{
  "cells": [
    {
      "cell_type": "markdown",
      "source": [
        "1. Write a python program to convert a string to lowercase\n"
      ],
      "metadata": {
        "id": "lIYdn1woOS1n"
      }
    },
    {
      "cell_type": "code",
      "source": [
        "string = 'PYTHON'\n",
        "string.lower()"
      ],
      "metadata": {
        "id": "JAS6pW89Kvz4",
        "outputId": "abd020bf-37c4-45e2-eaf4-7b9fec784441",
        "colab": {
          "base_uri": "https://localhost:8080/",
          "height": 35
        }
      },
      "execution_count": 1,
      "outputs": [
        {
          "output_type": "execute_result",
          "data": {
            "text/plain": [
              "'python'"
            ],
            "application/vnd.google.colaboratory.intrinsic+json": {
              "type": "string"
            }
          },
          "metadata": {},
          "execution_count": 1
        }
      ]
    },
    {
      "cell_type": "markdown",
      "source": [
        "\n",
        "2. Write a python program to convert only odd indexed characters to lowercase\n",
        "\n",
        "Ex: PYTHON\n",
        "Output: - PyThOn\n"
      ],
      "metadata": {
        "id": "uCkF1yCFKuMD"
      }
    },
    {
      "cell_type": "code",
      "source": [
        "string = 'PYTHON'\n",
        "a = 0\n",
        "for i in string:\n",
        "    if(a%2 == 1):\n",
        "        string = string[:a] + string[a].lower() + string[a+1:]\n",
        "    a = a+1\n",
        "string"
      ],
      "metadata": {
        "id": "vwDZ28bsLI09",
        "outputId": "d070ad29-47dc-48d1-b724-c7483826df7c",
        "colab": {
          "base_uri": "https://localhost:8080/",
          "height": 35
        }
      },
      "execution_count": 2,
      "outputs": [
        {
          "output_type": "execute_result",
          "data": {
            "text/plain": [
              "'PyThOn'"
            ],
            "application/vnd.google.colaboratory.intrinsic+json": {
              "type": "string"
            }
          },
          "metadata": {},
          "execution_count": 2
        }
      ]
    },
    {
      "cell_type": "markdown",
      "source": [
        "\n",
        "3. Write a python program to convert only even indexed characters to lowercase\n",
        "\n",
        "Ex: PYTHON\n",
        "Output: - pYtHoN\n"
      ],
      "metadata": {
        "id": "BYTC3-qpK2q9"
      }
    },
    {
      "cell_type": "code",
      "source": [
        "string = 'PYTHON'\n",
        "a = 0\n",
        "for i in string:\n",
        "    if(a%2 == 0):\n",
        "        string = string[:a] + string[a].lower() + string[a+1:]\n",
        "    a = a+1\n",
        "string"
      ],
      "metadata": {
        "id": "gZ0QpNuzMOrA",
        "outputId": "602daa86-4ed8-4a21-b810-f73b32cf436b",
        "colab": {
          "base_uri": "https://localhost:8080/",
          "height": 35
        }
      },
      "execution_count": 3,
      "outputs": [
        {
          "output_type": "execute_result",
          "data": {
            "text/plain": [
              "'pYtHoN'"
            ],
            "application/vnd.google.colaboratory.intrinsic+json": {
              "type": "string"
            }
          },
          "metadata": {},
          "execution_count": 3
        }
      ]
    },
    {
      "cell_type": "markdown",
      "source": [
        "\n",
        "4. Write a python program to convert only odd indexed characters to uppercase\n",
        "\n",
        "Ex: python\n",
        "Output: pYtHoN\n"
      ],
      "metadata": {
        "id": "nclZyVNWK4a-"
      }
    },
    {
      "cell_type": "code",
      "source": [
        "string = 'python'\n",
        "a = 0\n",
        "for i in string:\n",
        "    if(a%2 == 1):\n",
        "        string = string[:a] + string[a].upper() + string[a+1:]\n",
        "    a = a+1\n",
        "string"
      ],
      "metadata": {
        "id": "feE1LcrAMV9s",
        "outputId": "2b9ae84a-a227-4d9e-b5a9-15093b643856",
        "colab": {
          "base_uri": "https://localhost:8080/",
          "height": 35
        }
      },
      "execution_count": 4,
      "outputs": [
        {
          "output_type": "execute_result",
          "data": {
            "text/plain": [
              "'pYtHoN'"
            ],
            "application/vnd.google.colaboratory.intrinsic+json": {
              "type": "string"
            }
          },
          "metadata": {},
          "execution_count": 4
        }
      ]
    },
    {
      "cell_type": "markdown",
      "source": [
        "\n",
        "5. Write a python program to convert only even indexed characters to uppercase\n",
        "\n",
        "Ex: python\n",
        "Output: - PyThOn\n"
      ],
      "metadata": {
        "id": "hWExISuVK6JR"
      }
    },
    {
      "cell_type": "code",
      "source": [
        "string = 'python'\n",
        "a = 0\n",
        "for i in string:\n",
        "    if(a%2 == 1):\n",
        "        string = string[:a] + string[a].upper() + string[a+1:]\n",
        "    a = a+1\n",
        "string"
      ],
      "metadata": {
        "id": "V3AY2_WiMam_",
        "outputId": "f182ee25-4cbb-4fae-eb8d-f9588f7d19f4",
        "colab": {
          "base_uri": "https://localhost:8080/",
          "height": 35
        }
      },
      "execution_count": 5,
      "outputs": [
        {
          "output_type": "execute_result",
          "data": {
            "text/plain": [
              "'pYtHoN'"
            ],
            "application/vnd.google.colaboratory.intrinsic+json": {
              "type": "string"
            }
          },
          "metadata": {},
          "execution_count": 5
        }
      ]
    },
    {
      "cell_type": "markdown",
      "source": [
        "\n",
        "6. Write a python program where you have different variables which contain your name, gender, age, phone number, father’s name and mother’s name. And by using this variable create a variable named bio-data where you will use all this variable\n",
        "\n",
        "Ex: print(bio-data)\n",
        "\n",
        "Output:- My name is …., My age is ….,My phone-no is ….,my father’s name is …,and my mother’s name is…\n"
      ],
      "metadata": {
        "id": "7_8Rllj6K7yg"
      }
    },
    {
      "cell_type": "code",
      "source": [
        "name = 'kiran'\n",
        "age = 25\n",
        "phone = '4235234'\n",
        "father_name = 'ramesh'\n",
        "mother_name = 'sunitha'\n",
        "\n",
        "print(f'My name is {name},My age is {age},My phone-no is {phone},my father’s name is {father_name},and my mother’s name is {mother_name}')\n"
      ],
      "metadata": {
        "id": "7DHUIOMHMhEq",
        "outputId": "b9e369ed-d0e9-460d-d5a6-083525f524f0",
        "colab": {
          "base_uri": "https://localhost:8080/"
        }
      },
      "execution_count": 6,
      "outputs": [
        {
          "output_type": "stream",
          "name": "stdout",
          "text": [
            "My name is kiran,My age is 25,My phone-no is 4235234,my father’s name is ramesh,and my mother’s name is sunitha\n"
          ]
        }
      ]
    },
    {
      "cell_type": "markdown",
      "source": [
        "7. Write a python program to count how many times “@” occurred\n",
        " Ex: S@ndhy@ \n",
        "Output: 2\n",
        "\n"
      ],
      "metadata": {
        "id": "9goyJ3I9K_yz"
      }
    },
    {
      "cell_type": "code",
      "source": [
        "string = 'S@ndhy@'\n",
        "string.count('@')"
      ],
      "metadata": {
        "id": "57mlm6NHNECH",
        "outputId": "78144e60-e4cc-4816-e08a-9b7132c57dab",
        "colab": {
          "base_uri": "https://localhost:8080/"
        }
      },
      "execution_count": 8,
      "outputs": [
        {
          "output_type": "execute_result",
          "data": {
            "text/plain": [
              "2"
            ]
          },
          "metadata": {},
          "execution_count": 8
        }
      ]
    },
    {
      "cell_type": "markdown",
      "source": [
        "8. Write a python program to get only names from the string\n",
        "\n",
        "Ex: “name1.@gmail.com, name2.@gmail.com, name#3.@gmail.com”\n",
        "\t\n",
        "Output-name1, name2, name3\n",
        "\n"
      ],
      "metadata": {
        "id": "mNMMv8ERLBqg"
      }
    },
    {
      "cell_type": "code",
      "source": [
        "string = 'name1@gmail.com, name2@gmail.com, name3@gmail.com'\n",
        "\n",
        "\n",
        "for i in string.split(','):\n",
        "    print(i[:i.find('@')].strip())\n"
      ],
      "metadata": {
        "id": "aeINevQ-NXxo",
        "outputId": "d890c746-65d8-42c9-b927-ac40a2f1a13d",
        "colab": {
          "base_uri": "https://localhost:8080/"
        }
      },
      "execution_count": 10,
      "outputs": [
        {
          "output_type": "stream",
          "name": "stdout",
          "text": [
            "name1\n",
            "name2\n",
            "name3\n"
          ]
        }
      ]
    },
    {
      "cell_type": "markdown",
      "source": [
        "9. Write a program to remove vowels from the entire alphabets\n",
        "\n",
        "Ex: “abcdefghijklmnopqrstuvwxyz”\n",
        "\n",
        "Output: “bcdfghjklmnpqrstvwxyz”\n",
        "\n"
      ],
      "metadata": {
        "id": "RtBzuphiLDWJ"
      }
    },
    {
      "cell_type": "code",
      "source": [
        "string = 'abcdefghijklmnopqrstuvwxyz'\n",
        "\n",
        "for i in ['a', 'e', 'i', 'o', 'u']:\n",
        "    string = string.replace(i, '')\n",
        "\n",
        "print(string)"
      ],
      "metadata": {
        "id": "WhvybTHHOCqW",
        "outputId": "35ded0ce-655f-4abc-c4d0-a21f8ab49cbc",
        "colab": {
          "base_uri": "https://localhost:8080/"
        }
      },
      "execution_count": 12,
      "outputs": [
        {
          "output_type": "stream",
          "name": "stdout",
          "text": [
            "bcdfghjklmnpqrstvwxyz\n"
          ]
        }
      ]
    },
    {
      "cell_type": "markdown",
      "source": [
        "10. Find all occurrences of a substring in a given string by ignoring the case\n",
        "\n",
        "Ex: str1 = \"Welcome to Innomatics. innomatics awesome, isn't it?\"\n",
        "\n",
        "Output: innomatics count is: 2\n"
      ],
      "metadata": {
        "id": "2Bg5OeGjLFvf"
      }
    },
    {
      "cell_type": "code",
      "source": [
        "string = \"Welcome to Innomatics. innomatics awesome, isn't it?\"\n",
        "sub_str = 'innomatics'\n",
        "\n",
        "print(f'{sub_str} count is: {string.lower().count(sub_str.lower())}')\n"
      ],
      "metadata": {
        "id": "BDKxguLmOZan",
        "outputId": "c3b85845-d1f5-40f0-9183-f7c6e1bf2eb2",
        "colab": {
          "base_uri": "https://localhost:8080/"
        }
      },
      "execution_count": 13,
      "outputs": [
        {
          "output_type": "stream",
          "name": "stdout",
          "text": [
            "innomatics count is: 2\n"
          ]
        }
      ]
    }
  ],
  "metadata": {
    "colab": {
      "name": "string-assignment",
      "provenance": []
    },
    "kernelspec": {
      "display_name": "Python 3",
      "name": "python3"
    }
  },
  "nbformat": 4,
  "nbformat_minor": 0
}